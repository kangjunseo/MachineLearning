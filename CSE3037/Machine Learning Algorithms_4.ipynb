{
  "cells": [
    {
      "cell_type": "markdown",
      "metadata": {
        "id": "view-in-github",
        "colab_type": "text"
      },
      "source": [
        "<a href=\"https://colab.research.google.com/github/kangjunseo/MachineLearning/blob/main/Machine%20Learning%20Algorithms_4.ipynb\" target=\"_parent\"><img src=\"https://colab.research.google.com/assets/colab-badge.svg\" alt=\"Open In Colab\"/></a>"
      ]
    },
    {
      "cell_type": "markdown",
      "id": "4e146883",
      "metadata": {
        "id": "4e146883"
      },
      "source": [
        "### Gaussian Processes\n",
        "\n",
        "Machine Learning Algorithms\n",
        "\n",
        "Dates: 2022-4-22\n",
        "\n",
        "Author: Yung-Kyun Noh\n",
        "\n",
        "Department of Computer Science, Hanyang University & KIAS\n",
        "\n",
        "Ref: https://scikit-learn.org/stable/auto_examples/gaussian_process/plot_gpr_noisy_targets.html"
      ]
    },
    {
      "cell_type": "code",
      "execution_count": 1,
      "id": "795229b1",
      "metadata": {
        "id": "795229b1"
      },
      "outputs": [],
      "source": [
        "import numpy as np\n",
        "import matplotlib.pyplot as plt"
      ]
    },
    {
      "cell_type": "code",
      "execution_count": 2,
      "id": "be8d8f5b",
      "metadata": {
        "id": "be8d8f5b",
        "outputId": "f445244a-761b-4398-dcaa-6f0ca84fe56f",
        "colab": {
          "base_uri": "https://localhost:8080/",
          "height": 297
        }
      },
      "outputs": [
        {
          "output_type": "execute_result",
          "data": {
            "text/plain": [
              "Text(0, 0.5, 'y')"
            ]
          },
          "metadata": {},
          "execution_count": 2
        },
        {
          "output_type": "display_data",
          "data": {
            "text/plain": [
              "<Figure size 432x288 with 1 Axes>"
            ],
            "image/png": "[encoded data removed]"
          },
          "metadata": {
            "needs_background": "light"
          }
        }
      ],
      "source": [
        "# Data generation\n",
        "xs = np.array([-10, -5, 9, 15, 25])\n",
        "ys = np.array([.95, 1, 1.11, 1.1, 1.05])\n",
        "x_test = np.array([5.])\n",
        "\n",
        "plt.scatter(xs, ys)\n",
        "plt.vlines(x_test, 0.8, 1.2, color=\"red\",linestyles=\"dotted\")\n",
        "plt.xlabel('x')\n",
        "plt.ylabel('y')\n",
        "\n",
        "# if x=5, what will be y?\n",
        "# most of people will expect about 1.05\n",
        "#\n",
        "# but why not other places?\n",
        "# because we have prior that model will be \"smoother\"\n",
        "#"
      ]
    },
    {
      "cell_type": "code",
      "execution_count": 3,
      "id": "51afb239",
      "metadata": {
        "id": "51afb239"
      },
      "outputs": [],
      "source": [
        "def k_fun(X_1, X_2, gamma = .005):\n",
        "    return np.exp(-gamma*(\n",
        "        np.diag(np.matmul(X_1, X_1.T)).reshape([-1,1]) + np.diag(np.matmul(X_2, X_2.T)).reshape([1,-1]) - \\\n",
        "        2*np.matmul(X_1, X_2.T))) # exp(-gamma((x1-x2)^2))"
      ]
    },
    {
      "cell_type": "code",
      "execution_count": 4,
      "id": "c7a1e804",
      "metadata": {
        "id": "c7a1e804",
        "outputId": "bd0cef39-8f07-4c02-9b2d-a9e135e753ec",
        "colab": {
          "base_uri": "https://localhost:8080/"
        }
      },
      "outputs": [
        {
          "output_type": "execute_result",
          "data": {
            "text/plain": [
              "array([[1.        , 0.8824969 , 0.16447446, 0.04393693, 0.00218749],\n",
              "       [0.8824969 , 1.        , 0.3753111 , 0.13533528, 0.011109  ],\n",
              "       [0.16447446, 0.3753111 , 1.        , 0.83527021, 0.2780373 ],\n",
              "       [0.04393693, 0.13533528, 0.83527021, 1.        , 0.60653066],\n",
              "       [0.00218749, 0.011109  , 0.2780373 , 0.60653066, 1.        ]])"
            ]
          },
          "metadata": {},
          "execution_count": 4
        }
      ],
      "source": [
        "tr_num = len(xs)\n",
        "K = k_fun(xs.reshape([tr_num,-1]), xs.reshape([tr_num,-1]))\n",
        "k = k_fun(x_test.reshape([1,-1]), xs.reshape([-1,1]))\n",
        "K"
      ]
    },
    {
      "cell_type": "code",
      "execution_count": 5,
      "id": "0fc7c6c5",
      "metadata": {
        "id": "0fc7c6c5",
        "outputId": "901da424-1160-466a-e2b0-a284a3dfb2be",
        "colab": {
          "base_uri": "https://localhost:8080/"
        }
      },
      "outputs": [
        {
          "output_type": "stream",
          "name": "stdout",
          "text": [
            "[[1.08937129]]\n"
          ]
        }
      ],
      "source": [
        "y_test = np.matmul(np.matmul(k, np.linalg.inv(K)), ys.reshape([-1,1]))\n",
        "print(y_test) # predicted by k_fun and mean"
      ]
    },
    {
      "cell_type": "code",
      "execution_count": null,
      "id": "5818780e",
      "metadata": {
        "id": "5818780e"
      },
      "outputs": [],
      "source": [
        ""
      ]
    },
    {
      "cell_type": "code",
      "execution_count": 6,
      "id": "fff4e0cd",
      "metadata": {
        "id": "fff4e0cd"
      },
      "outputs": [],
      "source": [
        "test_num = 50\n",
        "xs_test = np.linspace(-12, 30, num=test_num)\n",
        "k = k_fun(xs_test.reshape([test_num,-1]), xs.reshape([tr_num,-1]))"
      ]
    },
    {
      "cell_type": "code",
      "execution_count": 7,
      "id": "0f192217",
      "metadata": {
        "id": "0f192217",
        "outputId": "e546a273-f561-4c1f-a9e3-cf492982c26c",
        "colab": {
          "base_uri": "https://localhost:8080/",
          "height": 297
        }
      },
      "outputs": [
        {
          "output_type": "execute_result",
          "data": {
            "text/plain": [
              "Text(0, 0.5, 'y')"
            ]
          },
          "metadata": {},
          "execution_count": 7
        },
        {
          "output_type": "display_data",
          "data": {
            "text/plain": [
              "<Figure size 432x288 with 1 Axes>"
            ],
            "image/png": "[encoded data removed]"
          },
          "metadata": {
            "needs_background": "light"
          }
        }
      ],
      "source": [
        "ys_pred = np.matmul(np.matmul(k, np.linalg.inv(K)), ys.reshape([-1,1]))\n",
        "plt.plot(xs_test, ys_pred)\n",
        "plt.scatter(xs, ys)\n",
        "plt.xlabel('x')\n",
        "plt.ylabel('y')\n",
        "# mean functions guessed by guassian process"
      ]
    },
    {
      "cell_type": "code",
      "execution_count": null,
      "id": "35363cb6",
      "metadata": {
        "id": "35363cb6"
      },
      "outputs": [],
      "source": [
        ""
      ]
    },
    {
      "cell_type": "code",
      "execution_count": 16,
      "id": "11753dd7",
      "metadata": {
        "id": "11753dd7"
      },
      "outputs": [],
      "source": [
        "k_test = k_fun(xs_test.reshape([test_num,-1]), xs_test.reshape([test_num,-1]))\n",
        "sig_sq = .0005\n",
        "var_test = sig_sq + np.diag(k_test) - np.diag(np.matmul(np.matmul(k, np.linalg.inv(K)), k.T))"
      ]
    },
    {
      "cell_type": "code",
      "execution_count": 17,
      "id": "8f4650c3",
      "metadata": {
        "id": "8f4650c3",
        "outputId": "739b06e1-c8d1-4514-9ba2-1bb9f92bd2f7",
        "colab": {
          "base_uri": "https://localhost:8080/",
          "height": 297
        }
      },
      "outputs": [
        {
          "output_type": "execute_result",
          "data": {
            "text/plain": [
              "Text(0, 0.5, 'y')"
            ]
          },
          "metadata": {},
          "execution_count": 17
        },
        {
          "output_type": "display_data",
          "data": {
            "text/plain": [
              "<Figure size 432x288 with 1 Axes>"
            ],
            "image/png": "[encoded data removed]"
          },
          "metadata": {
            "needs_background": "light"
          }
        }
      ],
      "source": [
        "plt.plot(xs_test, ys_pred)\n",
        "plt.scatter(xs, ys)\n",
        "plt.fill_between(\n",
        "    xs_test.ravel(),\n",
        "    ys_pred.ravel() - np.sqrt(var_test),\n",
        "    ys_pred.ravel() + np.sqrt(var_test),\n",
        "    alpha=0.5\n",
        ")\n",
        "plt.xlabel('x')\n",
        "plt.ylabel('y')\n",
        "# variance graph"
      ]
    },
    {
      "cell_type": "code",
      "execution_count": null,
      "id": "daba8494",
      "metadata": {
        "id": "daba8494"
      },
      "outputs": [],
      "source": [
        "# by using guassian process model, we can guess train data perfectly\n",
        "# very flexable"
      ]
    }
  ],
  "metadata": {
    "kernelspec": {
      "display_name": "Python 3",
      "language": "python",
      "name": "python3"
    },
    "language_info": {
      "codemirror_mode": {
        "name": "ipython",
        "version": 3
      },
      "file_extension": ".py",
      "mimetype": "text/x-python",
      "name": "python",
      "nbconvert_exporter": "python",
      "pygments_lexer": "ipython3",
      "version": "3.8.8"
    },
    "colab": {
      "name": "Machine Learning Algorithms_4.ipynb",
      "provenance": [],
      "include_colab_link": true
    }
  },
  "nbformat": 4,
  "nbformat_minor": 5
}
