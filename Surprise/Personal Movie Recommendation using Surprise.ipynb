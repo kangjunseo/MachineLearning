{
 "cells": [
  {
   "cell_type": "code",
   "execution_count": 1,
   "id": "c6898d9c",
   "metadata": {
    "ExecuteTime": {
     "end_time": "2022-02-19T12:53:30.434134Z",
     "start_time": "2022-02-19T12:53:03.750423Z"
    }
   },
   "outputs": [
    {
     "name": "stdout",
     "output_type": "stream",
     "text": [
      "Collecting scikit-surprise\n",
      "  Downloading scikit-surprise-1.1.1.tar.gz (11.8 MB)\n",
      "     |████████████████████████████████| 11.8 MB 5.8 MB/s            \n",
      "\u001b[?25h  Preparing metadata (setup.py) ... \u001b[?25ldone\n",
      "\u001b[?25hRequirement already satisfied: joblib>=0.11 in /opt/anaconda3/lib/python3.8/site-packages (from scikit-surprise) (1.0.1)\n",
      "Requirement already satisfied: numpy>=1.11.2 in /opt/anaconda3/lib/python3.8/site-packages (from scikit-surprise) (1.20.1)\n",
      "Requirement already satisfied: scipy>=1.0.0 in /opt/anaconda3/lib/python3.8/site-packages (from scikit-surprise) (1.6.2)\n",
      "Requirement already satisfied: six>=1.10.0 in /opt/anaconda3/lib/python3.8/site-packages (from scikit-surprise) (1.15.0)\n",
      "Building wheels for collected packages: scikit-surprise\n",
      "  Building wheel for scikit-surprise (setup.py) ... \u001b[?25ldone\n",
      "\u001b[?25h  Created wheel for scikit-surprise: filename=scikit_surprise-1.1.1-cp38-cp38-macosx_10_9_x86_64.whl size=765197 sha256=e98839ff1f5883a2adf0654cef7b1b805d5923040b74cc09ed73ed06cf02ef7c\n",
      "  Stored in directory: /Users/kangjunseo/Library/Caches/pip/wheels/20/91/57/2965d4cff1b8ac7ed1b6fa25741882af3974b54a31759e10b6\n",
      "Successfully built scikit-surprise\n",
      "Installing collected packages: scikit-surprise\n",
      "Successfully installed scikit-surprise-1.1.1\n",
      "\u001b[33mWARNING: You are using pip version 21.3.1; however, version 22.0.3 is available.\n",
      "You should consider upgrading via the '/opt/anaconda3/bin/python -m pip install --upgrade pip' command.\u001b[0m\n"
     ]
    }
   ],
   "source": [
    "!pip install scikit-surprise"
   ]
  },
  {
   "cell_type": "markdown",
   "id": "1d23b2b2",
   "metadata": {},
   "source": [
    "## Quick Tutorial"
   ]
  },
  {
   "cell_type": "markdown",
   "id": "1faf8c37",
   "metadata": {},
   "source": [
    "### Imports"
   ]
  },
  {
   "cell_type": "code",
   "execution_count": 2,
   "id": "ee383595",
   "metadata": {
    "ExecuteTime": {
     "end_time": "2022-02-19T13:35:31.220541Z",
     "start_time": "2022-02-19T13:35:31.214398Z"
    }
   },
   "outputs": [],
   "source": [
    "from surprise import SVD, Dataset, accuracy\n",
    "from surprise.model_selection import train_test_split"
   ]
  },
  {
   "cell_type": "markdown",
   "id": "cce31a2b",
   "metadata": {},
   "source": [
    "### Load Dataset and Model"
   ]
  },
  {
   "cell_type": "code",
   "execution_count": 7,
   "id": "8ceaa8c7",
   "metadata": {
    "ExecuteTime": {
     "end_time": "2022-02-19T13:45:31.828695Z",
     "start_time": "2022-02-19T13:45:31.582275Z"
    }
   },
   "outputs": [],
   "source": [
    "data = Dataset.load_builtin('ml-100k')\n",
    "trainset, testset = train_test_split(data, test_size=.25, random_state=0)"
   ]
  },
  {
   "cell_type": "code",
   "execution_count": 8,
   "id": "dd65217b",
   "metadata": {
    "ExecuteTime": {
     "end_time": "2022-02-19T13:45:41.658453Z",
     "start_time": "2022-02-19T13:45:38.257769Z"
    }
   },
   "outputs": [
    {
     "data": {
      "text/plain": [
       "<surprise.prediction_algorithms.matrix_factorization.SVD at 0x7ff3396821c0>"
      ]
     },
     "execution_count": 8,
     "metadata": {},
     "output_type": "execute_result"
    }
   ],
   "source": [
    "algo = SVD()\n",
    "algo.fit(trainset)"
   ]
  },
  {
   "cell_type": "markdown",
   "id": "5f52603f",
   "metadata": {},
   "source": [
    "### Predict"
   ]
  },
  {
   "cell_type": "code",
   "execution_count": 9,
   "id": "ca96503f",
   "metadata": {
    "ExecuteTime": {
     "end_time": "2022-02-19T13:45:45.011075Z",
     "start_time": "2022-02-19T13:45:44.861022Z"
    }
   },
   "outputs": [
    {
     "name": "stdout",
     "output_type": "stream",
     "text": [
      "prediction type : <class 'list'>  size: 25000\n",
      "prediction result : head 5\n"
     ]
    },
    {
     "data": {
      "text/plain": [
       "[Prediction(uid='120', iid='282', r_ui=4.0, est=3.5626046429554394, details={'was_impossible': False}),\n",
       " Prediction(uid='882', iid='291', r_ui=4.0, est=3.7138058873373647, details={'was_impossible': False}),\n",
       " Prediction(uid='535', iid='507', r_ui=5.0, est=4.020537064849165, details={'was_impossible': False}),\n",
       " Prediction(uid='697', iid='244', r_ui=5.0, est=3.6866699942368455, details={'was_impossible': False}),\n",
       " Prediction(uid='751', iid='385', r_ui=4.0, est=3.2370095167499215, details={'was_impossible': False})]"
      ]
     },
     "execution_count": 9,
     "metadata": {},
     "output_type": "execute_result"
    }
   ],
   "source": [
    "predictions = algo.test(testset)\n",
    "print('prediction type :', type(predictions), ' size:',len(predictions))\n",
    "print('prediction result : head 5')\n",
    "predictions[:5]"
   ]
  },
  {
   "cell_type": "code",
   "execution_count": 11,
   "id": "b1eed166",
   "metadata": {
    "ExecuteTime": {
     "end_time": "2022-02-19T13:48:25.391562Z",
     "start_time": "2022-02-19T13:48:25.383319Z"
    }
   },
   "outputs": [
    {
     "data": {
      "text/plain": [
       "[('120', '282', 3.5626046429554394),\n",
       " ('882', '291', 3.7138058873373647),\n",
       " ('535', '507', 4.020537064849165)]"
      ]
     },
     "execution_count": 11,
     "metadata": {},
     "output_type": "execute_result"
    }
   ],
   "source": [
    "# access to features in Prediction object\n",
    "[(pred.uid, pred.iid, pred.est) for pred in predictions[:3]]"
   ]
  },
  {
   "cell_type": "code",
   "execution_count": 12,
   "id": "9529c978",
   "metadata": {
    "ExecuteTime": {
     "end_time": "2022-02-19T13:49:31.507058Z",
     "start_time": "2022-02-19T13:49:31.501426Z"
    }
   },
   "outputs": [
    {
     "name": "stdout",
     "output_type": "stream",
     "text": [
      "user: 196        item: 302        r_ui = None   est = 4.08   {'was_impossible': False}\n"
     ]
    }
   ],
   "source": [
    "# user id, item id should be string\n",
    "uid = str(196)\n",
    "iid = str(302)\n",
    "pred = algo.predict(uid,iid)\n",
    "print(pred)"
   ]
  },
  {
   "cell_type": "code",
   "execution_count": 13,
   "id": "373e27e2",
   "metadata": {
    "ExecuteTime": {
     "end_time": "2022-02-19T13:50:01.747691Z",
     "start_time": "2022-02-19T13:50:01.695366Z"
    }
   },
   "outputs": [
    {
     "name": "stdout",
     "output_type": "stream",
     "text": [
      "RMSE: 0.9465\n"
     ]
    },
    {
     "data": {
      "text/plain": [
       "0.9465015971169856"
      ]
     },
     "execution_count": 13,
     "metadata": {},
     "output_type": "execute_result"
    }
   ],
   "source": [
    "accuracy.rmse(predictions)"
   ]
  },
  {
   "cell_type": "markdown",
   "id": "de0815ef",
   "metadata": {},
   "source": []
  },
  {
   "cell_type": "markdown",
   "id": "dd0f82b7",
   "metadata": {},
   "source": [
    "## Apply to MovieLens Dataset"
   ]
  },
  {
   "cell_type": "markdown",
   "id": "9c109c68",
   "metadata": {},
   "source": [
    "Dataset from https://grouplens.org/datasets/movielens/latest/"
   ]
  },
  {
   "cell_type": "markdown",
   "id": "fd549b97",
   "metadata": {},
   "source": [
    "### Load OS File Data to Surprise Dataset"
   ]
  },
  {
   "cell_type": "code",
   "execution_count": 16,
   "id": "f62c7eed",
   "metadata": {
    "ExecuteTime": {
     "end_time": "2022-02-19T14:36:18.376384Z",
     "start_time": "2022-02-19T14:36:18.060892Z"
    }
   },
   "outputs": [],
   "source": [
    "import pandas as pd\n",
    "\n",
    "ratings = pd.read_csv('./ml-latest-small/ratings.csv')\n",
    "# Create new csv without index and header\n",
    "ratings.to_csv('./ml-latest-small/ratings_noh.csv', index=False, header=False)"
   ]
  },
  {
   "cell_type": "code",
   "execution_count": 20,
   "id": "841da459",
   "metadata": {
    "ExecuteTime": {
     "end_time": "2022-02-19T14:40:14.443423Z",
     "start_time": "2022-02-19T14:40:14.278430Z"
    }
   },
   "outputs": [],
   "source": [
    "from surprise import Reader\n",
    "\n",
    "# Create Reader class\n",
    "reader = Reader(line_format='user item rating timestamp', sep=',', rating_scale=(0.5,5))\n",
    "data = Dataset.load_from_file('./ml-latest-small/ratings_noh.csv', reader=reader)"
   ]
  },
  {
   "cell_type": "markdown",
   "id": "5e4735ee",
   "metadata": {},
   "source": [
    "### Fit and Predict"
   ]
  },
  {
   "cell_type": "code",
   "execution_count": 19,
   "id": "5956ec70",
   "metadata": {
    "ExecuteTime": {
     "end_time": "2022-02-19T14:40:04.968093Z",
     "start_time": "2022-02-19T14:40:04.835224Z"
    }
   },
   "outputs": [],
   "source": [
    "trainset, testset = train_test_split(data, test_size=.25, random_state=0)\n",
    "algo = SVD(n_factors=50, random_state=0)"
   ]
  },
  {
   "cell_type": "code",
   "execution_count": 21,
   "id": "c7c7ea47",
   "metadata": {
    "ExecuteTime": {
     "end_time": "2022-02-19T14:41:34.156034Z",
     "start_time": "2022-02-19T14:41:31.808525Z"
    }
   },
   "outputs": [
    {
     "name": "stdout",
     "output_type": "stream",
     "text": [
      "RMSE: 0.8682\n"
     ]
    },
    {
     "data": {
      "text/plain": [
       "0.8681952927143516"
      ]
     },
     "execution_count": 21,
     "metadata": {},
     "output_type": "execute_result"
    }
   ],
   "source": [
    "algo.fit(trainset)\n",
    "predictions = algo.test(testset)\n",
    "accuracy.rmse(predictions)"
   ]
  },
  {
   "cell_type": "markdown",
   "id": "bb388c2e",
   "metadata": {},
   "source": []
  },
  {
   "cell_type": "markdown",
   "id": "990889d0",
   "metadata": {},
   "source": [
    "## Advanced prediction"
   ]
  },
  {
   "cell_type": "markdown",
   "id": "6d6041e2",
   "metadata": {},
   "source": [
    "### Load Dataset at Pandas DataFrame"
   ]
  },
  {
   "cell_type": "code",
   "execution_count": 22,
   "id": "2a254e4e",
   "metadata": {
    "ExecuteTime": {
     "end_time": "2022-02-19T14:51:37.041080Z",
     "start_time": "2022-02-19T14:51:34.689555Z"
    }
   },
   "outputs": [
    {
     "name": "stdout",
     "output_type": "stream",
     "text": [
      "RMSE: 0.8682\n"
     ]
    },
    {
     "data": {
      "text/plain": [
       "0.8681952927143516"
      ]
     },
     "execution_count": 22,
     "metadata": {},
     "output_type": "execute_result"
    }
   ],
   "source": [
    "ratings = pd.read_csv('./ml-latest-small/ratings.csv')\n",
    "reader = Reader(rating_scale=(0.5, 5.0))\n",
    "\n",
    "data = Dataset.load_from_df(ratings[['userId','movieId','rating']],reader)\n",
    "trainset, testset = train_test_split(data, test_size=.25, random_state=0)\n",
    "\n",
    "algo = SVD(n_factors=50, random_state=0)\n",
    "algo.fit(trainset)\n",
    "predictions = algo.test(testset)\n",
    "accuracy.rmse(predictions)"
   ]
  },
  {
   "cell_type": "markdown",
   "id": "b3d1ffb3",
   "metadata": {},
   "source": [
    "### Cross Validation and Parameter Tuning"
   ]
  },
  {
   "cell_type": "code",
   "execution_count": 23,
   "id": "07865192",
   "metadata": {
    "ExecuteTime": {
     "end_time": "2022-02-19T14:54:19.299328Z",
     "start_time": "2022-02-19T14:53:59.651940Z"
    }
   },
   "outputs": [
    {
     "name": "stdout",
     "output_type": "stream",
     "text": [
      "Evaluating RMSE, MAE of algorithm SVD on 5 split(s).\n",
      "\n",
      "                  Fold 1  Fold 2  Fold 3  Fold 4  Fold 5  Mean    Std     \n",
      "RMSE (testset)    0.8725  0.8692  0.8735  0.8700  0.8710  0.8713  0.0016  \n",
      "MAE (testset)     0.6706  0.6688  0.6728  0.6691  0.6673  0.6697  0.0019  \n",
      "Fit time          3.69    3.70    3.71    3.68    3.69    3.69    0.01    \n",
      "Test time         0.07    0.08    0.07    0.07    0.07    0.07    0.00    \n"
     ]
    },
    {
     "data": {
      "text/plain": [
       "{'test_rmse': array([0.8725097 , 0.8691865 , 0.8735371 , 0.87002875, 0.87101993]),\n",
       " 'test_mae': array([0.67059773, 0.66875884, 0.67282806, 0.66908158, 0.66726814]),\n",
       " 'fit_time': (3.687675952911377,\n",
       "  3.6965129375457764,\n",
       "  3.7148258686065674,\n",
       "  3.67720890045166,\n",
       "  3.6904780864715576),\n",
       " 'test_time': (0.07318711280822754,\n",
       "  0.07918882369995117,\n",
       "  0.07237887382507324,\n",
       "  0.07183003425598145,\n",
       "  0.07297015190124512)}"
      ]
     },
     "execution_count": 23,
     "metadata": {},
     "output_type": "execute_result"
    }
   ],
   "source": [
    "from surprise.model_selection import cross_validate\n",
    "\n",
    "cross_validate(algo, data, measures=['RMSE','MAE'],cv=5,verbose=True)"
   ]
  },
  {
   "cell_type": "code",
   "execution_count": 25,
   "id": "9f60b680",
   "metadata": {
    "ExecuteTime": {
     "end_time": "2022-02-19T15:04:14.306268Z",
     "start_time": "2022-02-19T14:58:22.598834Z"
    }
   },
   "outputs": [
    {
     "name": "stdout",
     "output_type": "stream",
     "text": [
      "0.8762053629333026\n",
      "{'n_epochs': 20, 'n_factors': 50}\n"
     ]
    }
   ],
   "source": [
    "from surprise.model_selection import GridSearchCV\n",
    "\n",
    "# make a dict of target parameters\n",
    "param_grid = {'n_epochs':[20,40,60], 'n_factors':[50,100,200]}\n",
    "\n",
    "gs = GridSearchCV(SVD, param_grid, measures=['rmse','mae'],cv=3)\n",
    "gs.fit(data)\n",
    "\n",
    "# print best RMSE and best hyperparameter\n",
    "print(gs.best_score['rmse'])\n",
    "print(gs.best_params['rmse'])"
   ]
  },
  {
   "cell_type": "markdown",
   "id": "299ea432",
   "metadata": {},
   "source": []
  },
  {
   "cell_type": "markdown",
   "id": "f9c15f20",
   "metadata": {},
   "source": [
    "## Personalized Movie Recommendation"
   ]
  },
  {
   "cell_type": "markdown",
   "id": "0ddf33a9",
   "metadata": {},
   "source": [
    "### Prepare Datasets"
   ]
  },
  {
   "cell_type": "code",
   "execution_count": 27,
   "id": "90a948c8",
   "metadata": {
    "ExecuteTime": {
     "end_time": "2022-02-19T15:06:13.210213Z",
     "start_time": "2022-02-19T15:06:12.985257Z"
    }
   },
   "outputs": [],
   "source": [
    "# we'll use DatasetAutoFolds instead of train_test_split\n",
    "# because we'll use every dataset just for training\n",
    "\n",
    "from surprise.dataset import DatasetAutoFolds\n",
    "\n",
    "reader = Reader(line_format='user item rating timestamp', sep=',', rating_scale=(0.5,5))\n",
    "data_folds = DatasetAutoFolds(ratings_file='./ml-latest-small/ratings_noh.csv',reader = reader)\n",
    "\n",
    "# Use full data for trainset\n",
    "trainset = data_folds.build_full_trainset()"
   ]
  },
  {
   "cell_type": "code",
   "execution_count": 28,
   "id": "0bd41b51",
   "metadata": {
    "ExecuteTime": {
     "end_time": "2022-02-19T15:06:45.320901Z",
     "start_time": "2022-02-19T15:06:42.733912Z"
    }
   },
   "outputs": [
    {
     "data": {
      "text/plain": [
       "<surprise.prediction_algorithms.matrix_factorization.SVD at 0x7ff33f456940>"
      ]
     },
     "execution_count": 28,
     "metadata": {},
     "output_type": "execute_result"
    }
   ],
   "source": [
    "algo = SVD(n_epochs=20, n_factors=50, random_state=0)\n",
    "algo.fit(trainset)"
   ]
  },
  {
   "cell_type": "code",
   "execution_count": 31,
   "id": "b83639f5",
   "metadata": {
    "ExecuteTime": {
     "end_time": "2022-02-19T15:11:13.983158Z",
     "start_time": "2022-02-19T15:11:13.929654Z"
    }
   },
   "outputs": [
    {
     "name": "stdout",
     "output_type": "stream",
     "text": [
      "User 9 does not have rating of movie 42\n",
      "    movieId                   title              genres\n",
      "38       42  Dead Presidents (1995)  Action|Crime|Drama\n"
     ]
    }
   ],
   "source": [
    "movies = pd.read_csv('./ml-latest-small/movies.csv')\n",
    "\n",
    "# target user : 9, target movie : 42\n",
    "movieIds = ratings[ratings['userId']==9]['movieId']\n",
    "if movieIds[movieIds==42].count()==0: print('User 9 does not have rating of movie 42')\n",
    "\n",
    "print(movies[movies['movieId']==42])"
   ]
  },
  {
   "cell_type": "markdown",
   "id": "7a1fde83",
   "metadata": {},
   "source": [
    "### Prediction for personal user"
   ]
  },
  {
   "cell_type": "code",
   "execution_count": 32,
   "id": "4bd5e4c7",
   "metadata": {
    "ExecuteTime": {
     "end_time": "2022-02-19T15:13:01.339557Z",
     "start_time": "2022-02-19T15:13:01.331622Z"
    }
   },
   "outputs": [
    {
     "name": "stdout",
     "output_type": "stream",
     "text": [
      "user: 9          item: 42         r_ui = None   est = 3.13   {'was_impossible': False}\n"
     ]
    }
   ],
   "source": [
    "uid, iid = str(9), str(42)\n",
    "pred = algo.predict(uid,iid,verbose=True)"
   ]
  },
  {
   "cell_type": "code",
   "execution_count": 34,
   "id": "95bfec6c",
   "metadata": {
    "ExecuteTime": {
     "end_time": "2022-02-19T15:16:30.451056Z",
     "start_time": "2022-02-19T15:16:30.420542Z"
    }
   },
   "outputs": [
    {
     "name": "stdout",
     "output_type": "stream",
     "text": [
      "seen movies : 46 unseen movies : 9696 total movies : 9742\n"
     ]
    }
   ],
   "source": [
    "def get_unseen_surprise(ratings, movies, userId):\n",
    "    seen_movies = ratings[ratings['userId']==userId]['movieId'].tolist()\n",
    "    total_movies = movies['movieId'].tolist()\n",
    "    unseen_movies = [movie for movie in total_movies if movie not in seen_movies]\n",
    "    \n",
    "    print('seen movies :',len(seen_movies), 'unseen movies :',len(unseen_movies),'total movies :',len(total_movies))\n",
    "    return unseen_movies\n",
    "\n",
    "unseen_movies = get_unseen_surprise(ratings, movies, 9)"
   ]
  },
  {
   "cell_type": "code",
   "execution_count": 37,
   "id": "63878235",
   "metadata": {
    "ExecuteTime": {
     "end_time": "2022-02-19T15:28:10.853351Z",
     "start_time": "2022-02-19T15:28:10.844878Z"
    }
   },
   "outputs": [],
   "source": [
    "def recomm_movie_by_surprise(algo, userId, unseen_movies, top_n=10):\n",
    "    predictions = [algo.predict(str(userId),str(movieId)) for movieId in unseen_movies]\n",
    "    \n",
    "    # predictions list features example\n",
    "    # [Prediction(uid='9', iid='1', est=3.69), ...]\n",
    "    \n",
    "    # used for sorting by est value\n",
    "    def sortkey_est(pred): return pred.est\n",
    "    \n",
    "    predictions.sort(key=sortkey_est, reverse=True)\n",
    "    top_predictions = predictions[:top_n]\n",
    "    \n",
    "    # Extract top_n movies' info\n",
    "    top_movie_ids = [int(pred.iid) for pred in top_predictions]\n",
    "    top_movie_rating = [pred.est for pred in top_predictions]\n",
    "    top_movie_titles = movies[movies.movieId.isin(top_movie_ids)]['title']\n",
    "    \n",
    "    top_movie_preds = [(id,title,rating) for id, title, rating in zip(top_movie_ids, top_movie_titles, top_movie_rating)]\n",
    "    \n",
    "    return top_movie_preds"
   ]
  },
  {
   "cell_type": "code",
   "execution_count": 40,
   "id": "4f818443",
   "metadata": {
    "ExecuteTime": {
     "end_time": "2022-02-19T15:30:20.003325Z",
     "start_time": "2022-02-19T15:30:19.867594Z"
    }
   },
   "outputs": [
    {
     "name": "stdout",
     "output_type": "stream",
     "text": [
      "seen movies : 46 unseen movies : 9696 total movies : 9742\n",
      "##### Top-10 Recommended Movie List #####\n",
      "Usual Suspects, The (1995) : 4.306302135700814\n",
      "Star Wars: Episode IV - A New Hope (1977) : 4.281663842987387\n",
      "Pulp Fiction (1994) : 4.278152632122758\n",
      "Silence of the Lambs, The (1991) : 4.226073566460876\n",
      "Godfather, The (1972) : 4.1918097904381995\n",
      "Streetcar Named Desire, A (1951) : 4.154746591122658\n",
      "Star Wars: Episode V - The Empire Strikes Back (1980) : 4.122016128534504\n",
      "Star Wars: Episode VI - Return of the Jedi (1983) : 4.108009609093436\n",
      "Goodfellas (1990) : 4.083464936588478\n",
      "Glory (1989) : 4.07887165526957\n"
     ]
    }
   ],
   "source": [
    "unseen_movies = get_unseen_surprise(ratings, movies, 9)\n",
    "top_movie_preds = recomm_movie_by_surprise(algo, 9, unseen_movies, top_n=10)\n",
    "\n",
    "print('##### Top-10 Recommended Movie List #####')\n",
    "for top_movie in top_movie_preds: print(top_movie[1],':',top_movie[2])"
   ]
  },
  {
   "cell_type": "code",
   "execution_count": null,
   "id": "91f2fcdb",
   "metadata": {},
   "outputs": [],
   "source": []
  }
 ],
 "metadata": {
  "hide_input": false,
  "kernelspec": {
   "display_name": "Python 3",
   "language": "python",
   "name": "python3"
  },
  "language_info": {
   "codemirror_mode": {
    "name": "ipython",
    "version": 3
   },
   "file_extension": ".py",
   "mimetype": "text/x-python",
   "name": "python",
   "nbconvert_exporter": "python",
   "pygments_lexer": "ipython3",
   "version": "3.8.8"
  },
  "toc": {
   "base_numbering": 1,
   "nav_menu": {},
   "number_sections": true,
   "sideBar": true,
   "skip_h1_title": false,
   "title_cell": "Table of Contents",
   "title_sidebar": "Contents",
   "toc_cell": false,
   "toc_position": {},
   "toc_section_display": true,
   "toc_window_display": false
  },
  "varInspector": {
   "cols": {
    "lenName": 16,
    "lenType": 16,
    "lenVar": 40
   },
   "kernels_config": {
    "python": {
     "delete_cmd_postfix": "",
     "delete_cmd_prefix": "del ",
     "library": "var_list.py",
     "varRefreshCmd": "print(var_dic_list())"
    },
    "r": {
     "delete_cmd_postfix": ") ",
     "delete_cmd_prefix": "rm(",
     "library": "var_list.r",
     "varRefreshCmd": "cat(var_dic_list()) "
    }
   },
   "types_to_exclude": [
    "module",
    "function",
    "builtin_function_or_method",
    "instance",
    "_Feature"
   ],
   "window_display": false
  }
 },
 "nbformat": 4,
 "nbformat_minor": 5
}
