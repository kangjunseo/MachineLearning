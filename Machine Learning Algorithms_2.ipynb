{
  "cells": [
    {
      "cell_type": "markdown",
      "metadata": {
        "id": "view-in-github",
        "colab_type": "text"
      },
      "source": [
        "<a href=\"https://colab.research.google.com/github/kangjunseo/MachineLearning/blob/main/Machine%20Learning%20Algorithms_2.ipynb\" target=\"_parent\"><img src=\"https://colab.research.google.com/assets/colab-badge.svg\" alt=\"Open In Colab\"/></a>"
      ]
    },
    {
      "cell_type": "markdown",
      "id": "4e146883",
      "metadata": {
        "id": "4e146883"
      },
      "source": [
        "### Gaussian Density Functions\n",
        "\n",
        "Machine Learning Algorithms\n",
        "\n",
        "Dates: 2022-3-18\n",
        "\n",
        "Author: Yung-Kyun Noh\n",
        "\n",
        "Department of Computer Science, Hanyang University & KIAS\n"
      ]
    },
    {
      "cell_type": "code",
      "execution_count": 2,
      "id": "795229b1",
      "metadata": {
        "id": "795229b1"
      },
      "outputs": [],
      "source": [
        "import numpy as np\n",
        "import matplotlib.pyplot as plt"
      ]
    },
    {
      "cell_type": "code",
      "execution_count": 3,
      "id": "3d894dad",
      "metadata": {
        "id": "3d894dad"
      },
      "outputs": [],
      "source": [
        "def logGaussian(xs, mu, Sig): # computation에서 log를 취하는 이유 : 값이 너무 커짐, 연산이 많음\n",
        "    if xs.ndim == 1:\n",
        "        dim = 1\n",
        "        log_ps = -0.5*dim*np.log(2*np.pi) - 0.5*np.log(Sig)\n",
        "        log_ps += -0.5*(xs - mu)**2/Sig\n",
        "    else:\n",
        "        dim = len(xs[0])\n",
        "        mu = mu.reshape(1,-1)\n",
        "        log_ps = -0.5*dim*np.log(2*np.pi) - 0.5*np.log(np.linalg.det(Sig))\n",
        "        invSig = np.linalg.inv(Sig)\n",
        "        log_ps += -0.5*np.diag(np.matmul(np.matmul((xs - mu), invSig), (xs - mu).T))\n",
        "\n",
        "    return log_ps"
      ]
    },
    {
      "cell_type": "code",
      "execution_count": 4,
      "id": "35e53b90",
      "metadata": {
        "id": "35e53b90",
        "outputId": "c4de8335-9b8d-4627-e289-d1d656f1314d",
        "colab": {
          "base_uri": "https://localhost:8080/"
        }
      },
      "outputs": [
        {
          "output_type": "execute_result",
          "data": {
            "text/plain": [
              "array([-2.81759602, -3.31759602, -4.21759602])"
            ]
          },
          "metadata": {},
          "execution_count": 4
        }
      ],
      "source": [
        "mu = np.array([0.5,1])\n",
        "Sig = np.array([[3,2],[2,3]])\n",
        "\n",
        "# Examples\n",
        "xs = np.array([[1,2],[2,3], [3,4]])\n",
        "logGaussian(xs, mu, Sig)"
      ]
    },
    {
      "cell_type": "code",
      "execution_count": 5,
      "id": "38330af2",
      "metadata": {
        "id": "38330af2",
        "outputId": "ff61747a-71cd-4f1d-e0fb-3c9bd432ab8f",
        "colab": {
          "base_uri": "https://localhost:8080/",
          "height": 303
        }
      },
      "outputs": [
        {
          "output_type": "execute_result",
          "data": {
            "text/plain": [
              "Text(0, 0.5, '$x_2$')"
            ]
          },
          "metadata": {},
          "execution_count": 5
        },
        {
          "output_type": "display_data",
          "data": {
            "text/plain": [
              "<Figure size 432x288 with 2 Axes>"
            ],
            "image/png": "[encoded data removed]"
          },
          "metadata": {
            "needs_background": "light"
          }
        }
      ],
      "source": [
        "grid_num = 100\n",
        "x1 = np.linspace(-5,5,grid_num)\n",
        "x2 = np.linspace(-5,5,grid_num)\n",
        "X,Y = np.meshgrid(x1,x2)\n",
        "xs = np.concatenate([X.reshape([-1,1]), Y.reshape([-1,1])], axis=1)\n",
        "log_ps = logGaussian(xs, mu, Sig)\n",
        "\n",
        "log_ps = np.reshape(log_ps, [grid_num,grid_num])\n",
        "\n",
        "cs = plt.contourf(X, Y, np.exp(log_ps), cmap=\"Greys\")\n",
        "plt.colorbar(cs)\n",
        "plt.xlabel(\"$x_1$\")\n",
        "plt.ylabel(\"$x_2$\")"
      ]
    },
    {
      "cell_type": "code",
      "execution_count": 6,
      "id": "120be6f2",
      "metadata": {
        "id": "120be6f2",
        "outputId": "db96783a-e6b6-4376-ccc4-5433324f12db",
        "colab": {
          "base_uri": "https://localhost:8080/",
          "height": 299
        }
      },
      "outputs": [
        {
          "output_type": "execute_result",
          "data": {
            "text/plain": [
              "[<matplotlib.lines.Line2D at 0x7fb654a5c6d0>]"
            ]
          },
          "metadata": {},
          "execution_count": 6
        },
        {
          "output_type": "display_data",
          "data": {
            "text/plain": [
              "<Figure size 432x288 with 1 Axes>"
            ],
            "image/png": "[encoded data removed]"
          },
          "metadata": {
            "needs_background": "light"
          }
        }
      ],
      "source": [
        "cs = plt.contourf(X, Y, np.exp(log_ps), cmap=\"Greys\")\n",
        "plt.xlabel(\"$x_1$\")\n",
        "plt.ylabel(\"$x_2$\")\n",
        "\n",
        "# fix x2 = 0.5\n",
        "x2 = 0.5\n",
        "plt.plot([-5,5], [x2,x2])\n",
        "m1given2 = mu[0] + Sig[0,1]/Sig[1,1]*(x2 - mu[1])\n",
        "sig1given2 = Sig[0,1]/Sig[1,1]*Sig[1,0]\n",
        "\n",
        "grid_num = 100\n",
        "xs = np.linspace(-5,5,grid_num)\n",
        "log_ps1 = logGaussian(xs, m1given2, sig1given2)\n",
        "ps = np.exp(log_ps1)\n",
        "\n",
        "magnifier = 3\n",
        "plt.plot(xs, ps*magnifier + x2)\n",
        "\n",
        "# fix x2 = 3\n",
        "x2 = 3\n",
        "plt.plot([-5,5], [x2,x2])\n",
        "m1given2 = mu[0] + Sig[0,1]/Sig[1,1]*(x2 - mu[1])\n",
        "sig1given2 = Sig[0,1]/Sig[1,1]*Sig[1,0]\n",
        "\n",
        "grid_num = 100\n",
        "xs = np.linspace(-5,5,grid_num)\n",
        "log_ps1 = logGaussian(xs, m1given2, sig1given2)\n",
        "ps = np.exp(log_ps1)\n",
        "\n",
        "magnifier = 3\n",
        "plt.plot(xs, ps*magnifier + x2)\n",
        "\n",
        "# x2 = -4 해보기 --> 높이는 줄어들지 않음 \n",
        "x2 = -4\n",
        "plt.plot([-5,5], [x2,x2])\n",
        "m1given2 = mu[0] + Sig[0,1]/Sig[1,1]*(x2 - mu[1])\n",
        "sig1given2 = Sig[0,1]/Sig[1,1]*Sig[1,0]\n",
        "\n",
        "grid_num = 100\n",
        "xs = np.linspace(-5,5,grid_num)\n",
        "log_ps1 = logGaussian(xs, m1given2, sig1given2)\n",
        "ps = np.exp(log_ps1)\n",
        "\n",
        "magnifier = 3\n",
        "plt.plot(xs, ps*magnifier + x2)\n"
      ]
    },
    {
      "cell_type": "code",
      "execution_count": null,
      "id": "833ac0a0",
      "metadata": {
        "id": "833ac0a0",
        "outputId": "5ec74399-da60-4fcb-bcc6-496d1032700d"
      },
      "outputs": [
        {
          "data": {
            "text/plain": [
              "[<matplotlib.lines.Line2D at 0x7fd8d1c367c0>]"
            ]
          },
          "execution_count": 174,
          "metadata": {},
          "output_type": "execute_result"
        },
        {
          "data": {
            "image/png": "[encoded data removed]",
            "text/plain": [
              "<Figure size 432x288 with 1 Axes>"
            ]
          },
          "metadata": {
            "needs_background": "light"
          },
          "output_type": "display_data"
        }
      ],
      "source": [
        "cs = plt.contourf(X, Y, np.exp(log_ps), cmap=\"Greys\")\n",
        "plt.xlabel(\"$x_1$\")\n",
        "plt.ylabel(\"$x_2$\")\n",
        "\n",
        "# fix x2 = 0.5\n",
        "x2 = 0.5\n",
        "m1_marginal = mu[0]\n",
        "sig1_marginal = Sig[0,0]\n",
        "\n",
        "grid_num = 100\n",
        "xs = np.linspace(-5,5,grid_num)\n",
        "log_ps1 = logGaussian(xs, m1_marginal, sig1_marginal)\n",
        "ps = np.exp(log_ps1)\n",
        "\n",
        "magnifier = 3\n",
        "plot_location_x2 = -5\n",
        "plt.plot(xs, ps*magnifier + plot_location_x2)\n",
        "\n",
        "# marginalized"
      ]
    },
    {
      "cell_type": "code",
      "execution_count": null,
      "id": "6a25fb14",
      "metadata": {
        "id": "6a25fb14"
      },
      "outputs": [],
      "source": [
        ""
      ]
    }
  ],
  "metadata": {
    "kernelspec": {
      "display_name": "Python 3 (ipykernel)",
      "language": "python",
      "name": "python3"
    },
    "language_info": {
      "codemirror_mode": {
        "name": "ipython",
        "version": 3
      },
      "file_extension": ".py",
      "mimetype": "text/x-python",
      "name": "python",
      "nbconvert_exporter": "python",
      "pygments_lexer": "ipython3",
      "version": "3.8.12"
    },
    "colab": {
      "name": "Machine Learning Algorithms_2.ipynb",
      "provenance": [],
      "include_colab_link": true
    },
    "accelerator": "GPU"
  },
  "nbformat": 4,
  "nbformat_minor": 5
}